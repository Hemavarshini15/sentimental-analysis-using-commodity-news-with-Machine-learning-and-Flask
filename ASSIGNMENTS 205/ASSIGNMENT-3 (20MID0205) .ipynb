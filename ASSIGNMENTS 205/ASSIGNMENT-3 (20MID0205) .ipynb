{
 "cells": [
  {
   "cell_type": "markdown",
   "id": "3d50d76f",
   "metadata": {},
   "source": [
    "# 1.Download the dataset: Dataset\n",
    "##Load the dataset."
   ]
  },
  {
   "cell_type": "code",
   "execution_count": 1,
   "id": "00190c05",
   "metadata": {},
   "outputs": [
    {
     "data": {
      "text/html": [
       "<div>\n",
       "<style scoped>\n",
       "    .dataframe tbody tr th:only-of-type {\n",
       "        vertical-align: middle;\n",
       "    }\n",
       "\n",
       "    .dataframe tbody tr th {\n",
       "        vertical-align: top;\n",
       "    }\n",
       "\n",
       "    .dataframe thead th {\n",
       "        text-align: right;\n",
       "    }\n",
       "</style>\n",
       "<table border=\"1\" class=\"dataframe\">\n",
       "  <thead>\n",
       "    <tr style=\"text-align: right;\">\n",
       "      <th></th>\n",
       "      <th>price</th>\n",
       "      <th>area</th>\n",
       "      <th>bedrooms</th>\n",
       "      <th>bathrooms</th>\n",
       "      <th>stories</th>\n",
       "      <th>mainroad</th>\n",
       "      <th>guestroom</th>\n",
       "      <th>basement</th>\n",
       "      <th>hotwaterheating</th>\n",
       "      <th>airconditioning</th>\n",
       "      <th>parking</th>\n",
       "      <th>furnishingstatus</th>\n",
       "    </tr>\n",
       "  </thead>\n",
       "  <tbody>\n",
       "    <tr>\n",
       "      <th>0</th>\n",
       "      <td>13300000</td>\n",
       "      <td>7420</td>\n",
       "      <td>4</td>\n",
       "      <td>2</td>\n",
       "      <td>3</td>\n",
       "      <td>yes</td>\n",
       "      <td>no</td>\n",
       "      <td>no</td>\n",
       "      <td>no</td>\n",
       "      <td>yes</td>\n",
       "      <td>2</td>\n",
       "      <td>furnished</td>\n",
       "    </tr>\n",
       "    <tr>\n",
       "      <th>1</th>\n",
       "      <td>12250000</td>\n",
       "      <td>8960</td>\n",
       "      <td>4</td>\n",
       "      <td>4</td>\n",
       "      <td>4</td>\n",
       "      <td>yes</td>\n",
       "      <td>no</td>\n",
       "      <td>no</td>\n",
       "      <td>no</td>\n",
       "      <td>yes</td>\n",
       "      <td>3</td>\n",
       "      <td>furnished</td>\n",
       "    </tr>\n",
       "    <tr>\n",
       "      <th>2</th>\n",
       "      <td>12250000</td>\n",
       "      <td>9960</td>\n",
       "      <td>3</td>\n",
       "      <td>2</td>\n",
       "      <td>2</td>\n",
       "      <td>yes</td>\n",
       "      <td>no</td>\n",
       "      <td>yes</td>\n",
       "      <td>no</td>\n",
       "      <td>no</td>\n",
       "      <td>2</td>\n",
       "      <td>semi-furnished</td>\n",
       "    </tr>\n",
       "    <tr>\n",
       "      <th>3</th>\n",
       "      <td>12215000</td>\n",
       "      <td>7500</td>\n",
       "      <td>4</td>\n",
       "      <td>2</td>\n",
       "      <td>2</td>\n",
       "      <td>yes</td>\n",
       "      <td>no</td>\n",
       "      <td>yes</td>\n",
       "      <td>no</td>\n",
       "      <td>yes</td>\n",
       "      <td>3</td>\n",
       "      <td>furnished</td>\n",
       "    </tr>\n",
       "    <tr>\n",
       "      <th>4</th>\n",
       "      <td>11410000</td>\n",
       "      <td>7420</td>\n",
       "      <td>4</td>\n",
       "      <td>1</td>\n",
       "      <td>2</td>\n",
       "      <td>yes</td>\n",
       "      <td>yes</td>\n",
       "      <td>yes</td>\n",
       "      <td>no</td>\n",
       "      <td>yes</td>\n",
       "      <td>2</td>\n",
       "      <td>furnished</td>\n",
       "    </tr>\n",
       "    <tr>\n",
       "      <th>...</th>\n",
       "      <td>...</td>\n",
       "      <td>...</td>\n",
       "      <td>...</td>\n",
       "      <td>...</td>\n",
       "      <td>...</td>\n",
       "      <td>...</td>\n",
       "      <td>...</td>\n",
       "      <td>...</td>\n",
       "      <td>...</td>\n",
       "      <td>...</td>\n",
       "      <td>...</td>\n",
       "      <td>...</td>\n",
       "    </tr>\n",
       "    <tr>\n",
       "      <th>540</th>\n",
       "      <td>1820000</td>\n",
       "      <td>3000</td>\n",
       "      <td>2</td>\n",
       "      <td>1</td>\n",
       "      <td>1</td>\n",
       "      <td>yes</td>\n",
       "      <td>no</td>\n",
       "      <td>yes</td>\n",
       "      <td>no</td>\n",
       "      <td>no</td>\n",
       "      <td>2</td>\n",
       "      <td>unfurnished</td>\n",
       "    </tr>\n",
       "    <tr>\n",
       "      <th>541</th>\n",
       "      <td>1767150</td>\n",
       "      <td>2400</td>\n",
       "      <td>3</td>\n",
       "      <td>1</td>\n",
       "      <td>1</td>\n",
       "      <td>no</td>\n",
       "      <td>no</td>\n",
       "      <td>no</td>\n",
       "      <td>no</td>\n",
       "      <td>no</td>\n",
       "      <td>0</td>\n",
       "      <td>semi-furnished</td>\n",
       "    </tr>\n",
       "    <tr>\n",
       "      <th>542</th>\n",
       "      <td>1750000</td>\n",
       "      <td>3620</td>\n",
       "      <td>2</td>\n",
       "      <td>1</td>\n",
       "      <td>1</td>\n",
       "      <td>yes</td>\n",
       "      <td>no</td>\n",
       "      <td>no</td>\n",
       "      <td>no</td>\n",
       "      <td>no</td>\n",
       "      <td>0</td>\n",
       "      <td>unfurnished</td>\n",
       "    </tr>\n",
       "    <tr>\n",
       "      <th>543</th>\n",
       "      <td>1750000</td>\n",
       "      <td>2910</td>\n",
       "      <td>3</td>\n",
       "      <td>1</td>\n",
       "      <td>1</td>\n",
       "      <td>no</td>\n",
       "      <td>no</td>\n",
       "      <td>no</td>\n",
       "      <td>no</td>\n",
       "      <td>no</td>\n",
       "      <td>0</td>\n",
       "      <td>furnished</td>\n",
       "    </tr>\n",
       "    <tr>\n",
       "      <th>544</th>\n",
       "      <td>1750000</td>\n",
       "      <td>3850</td>\n",
       "      <td>3</td>\n",
       "      <td>1</td>\n",
       "      <td>2</td>\n",
       "      <td>yes</td>\n",
       "      <td>no</td>\n",
       "      <td>no</td>\n",
       "      <td>no</td>\n",
       "      <td>no</td>\n",
       "      <td>0</td>\n",
       "      <td>unfurnished</td>\n",
       "    </tr>\n",
       "  </tbody>\n",
       "</table>\n",
       "<p>545 rows × 12 columns</p>\n",
       "</div>"
      ],
      "text/plain": [
       "        price  area  bedrooms  bathrooms  stories mainroad guestroom basement  \\\n",
       "0    13300000  7420         4          2        3      yes        no       no   \n",
       "1    12250000  8960         4          4        4      yes        no       no   \n",
       "2    12250000  9960         3          2        2      yes        no      yes   \n",
       "3    12215000  7500         4          2        2      yes        no      yes   \n",
       "4    11410000  7420         4          1        2      yes       yes      yes   \n",
       "..        ...   ...       ...        ...      ...      ...       ...      ...   \n",
       "540   1820000  3000         2          1        1      yes        no      yes   \n",
       "541   1767150  2400         3          1        1       no        no       no   \n",
       "542   1750000  3620         2          1        1      yes        no       no   \n",
       "543   1750000  2910         3          1        1       no        no       no   \n",
       "544   1750000  3850         3          1        2      yes        no       no   \n",
       "\n",
       "    hotwaterheating airconditioning  parking furnishingstatus  \n",
       "0                no             yes        2        furnished  \n",
       "1                no             yes        3        furnished  \n",
       "2                no              no        2   semi-furnished  \n",
       "3                no             yes        3        furnished  \n",
       "4                no             yes        2        furnished  \n",
       "..              ...             ...      ...              ...  \n",
       "540              no              no        2      unfurnished  \n",
       "541              no              no        0   semi-furnished  \n",
       "542              no              no        0      unfurnished  \n",
       "543              no              no        0        furnished  \n",
       "544              no              no        0      unfurnished  \n",
       "\n",
       "[545 rows x 12 columns]"
      ]
     },
     "execution_count": 1,
     "metadata": {},
     "output_type": "execute_result"
    }
   ],
   "source": [
    "import pandas as pd\n",
    "import matplotlib.pyplot as plt\n",
    "import seaborn as sns\n",
    "from scipy import stats\n",
    "import numpy as np\n",
    "data=pd.read_csv(\"Housing.csv\")\n",
    "data"
   ]
  },
  {
   "cell_type": "code",
   "execution_count": 20,
   "id": "e5393cc4",
   "metadata": {},
   "outputs": [
    {
     "data": {
      "text/plain": [
       "price               0\n",
       "area                0\n",
       "bedrooms            0\n",
       "bathrooms           0\n",
       "stories             0\n",
       "mainroad            0\n",
       "guestroom           0\n",
       "basement            0\n",
       "hotwaterheating     0\n",
       "airconditioning     0\n",
       "parking             0\n",
       "furnishingstatus    0\n",
       "dtype: int64"
      ]
     },
     "execution_count": 20,
     "metadata": {},
     "output_type": "execute_result"
    }
   ],
   "source": [
    "data.isnull().sum()\n"
   ]
  },
  {
   "cell_type": "code",
   "execution_count": 21,
   "id": "ac9d2396",
   "metadata": {},
   "outputs": [
    {
     "data": {
      "text/plain": [
       "<bound method DataFrame.info of         price      area  bedrooms  bathrooms  stories mainroad guestroom  \\\n",
       "0   -0.200866  1.046726         4          2        3      yes        no   \n",
       "1   -0.200866  1.757010         4          4        4      yes        no   \n",
       "2   -0.200866  2.218232         3          2        2      yes        no   \n",
       "3   -0.200866  1.083624         4          2        2      yes        no   \n",
       "4   -0.200866  1.046726         4          1        2      yes       yes   \n",
       "..        ...       ...       ...        ...      ...      ...       ...   \n",
       "540 -1.681389 -0.991879         2          1        1      yes        no   \n",
       "541 -1.712438 -1.268613         3          1        1       no        no   \n",
       "542 -1.722514 -0.705921         2          1        1      yes        no   \n",
       "543 -1.722514 -1.033389         3          1        1       no        no   \n",
       "544 -1.722514 -0.599839         3          1        2      yes        no   \n",
       "\n",
       "    basement hotwaterheating airconditioning  parking furnishingstatus  \n",
       "0         no              no             yes        2        furnished  \n",
       "1         no              no             yes        3        furnished  \n",
       "2        yes              no              no        2   semi-furnished  \n",
       "3        yes              no             yes        3        furnished  \n",
       "4        yes              no             yes        2        furnished  \n",
       "..       ...             ...             ...      ...              ...  \n",
       "540      yes              no              no        2      unfurnished  \n",
       "541       no              no              no        0   semi-furnished  \n",
       "542       no              no              no        0      unfurnished  \n",
       "543       no              no              no        0        furnished  \n",
       "544       no              no              no        0      unfurnished  \n",
       "\n",
       "[545 rows x 12 columns]>"
      ]
     },
     "execution_count": 21,
     "metadata": {},
     "output_type": "execute_result"
    }
   ],
   "source": [
    "data.info\n"
   ]
  },
  {
   "cell_type": "markdown",
   "id": "80e8cfbe",
   "metadata": {},
   "source": [
    "# 3.Perform Below Visualizations.\n",
    "● Univariate Analysis\n",
    "● Bi - Variate Analysis\n",
    "● Multi - Variate Analysis"
   ]
  },
  {
   "cell_type": "code",
   "execution_count": 5,
   "id": "7b4186ca",
   "metadata": {},
   "outputs": [
    {
     "data": {
      "image/png": "[encoded data removed]",
      "text/plain": [
       "<Figure size 640x480 with 1 Axes>"
      ]
     },
     "metadata": {},
     "output_type": "display_data"
    }
   ],
   "source": [
    "\n",
    "# Select the \"Age\" variable for univariate analysis\n",
    "area = data['area']\n",
    "price=data['price']\n",
    "\n",
    "# Create a histogram of the Age variable\n",
    "plt.hist(area.dropna(), bins=20, edgecolor='c',color='pink')\n",
    "plt.xlabel('area in sqft')\n",
    "plt.ylabel('Frequency')\n",
    "plt.title('which area distribution has more houses')\n",
    "plt.show()\n",
    "\n",
    "\n"
   ]
  },
  {
   "cell_type": "code",
   "execution_count": 6,
   "id": "ef48bf4b",
   "metadata": {},
   "outputs": [
    {
     "data": {
      "image/png": "[encoded data removed]",
      "text/plain": [
       "<Figure size 640x480 with 1 Axes>"
      ]
     },
     "metadata": {},
     "output_type": "display_data"
    },
    {
     "data": {
      "image/png": "[encoded data removed]",
      "text/plain": [
       "<Figure size 577.361x500 with 6 Axes>"
      ]
     },
     "metadata": {},
     "output_type": "display_data"
    },
    {
     "name": "stdout",
     "output_type": "stream",
     "text": [
      "count      545.000000\n",
      "mean      5150.541284\n",
      "std       2170.141023\n",
      "min       1650.000000\n",
      "25%       3600.000000\n",
      "50%       4600.000000\n",
      "75%       6360.000000\n",
      "max      16200.000000\n",
      "Name: area, dtype: float64\n"
     ]
    }
   ],
   "source": [
    "#bivarent analysis\n",
    "# Remove rows with missing values in Age or Fare\n",
    "data_cleaned= data.dropna(subset=['area', 'price'])\n",
    "\n",
    "# Create a scatter plot of Age vs Fare\n",
    "plt.scatter(data_cleaned['area'], data_cleaned['price'])\n",
    "plt.xlabel('area')\n",
    "plt.ylabel('price')\n",
    "plt.title('Bivariate Analysis: area vs price')\n",
    "plt.show()\n",
    "\n",
    "#multivarient analysis\n",
    "variables = ['area', 'price', 'mainroad']\n",
    "\n",
    "# Filter the dataset for non-null values in the selected variables\n",
    "data_filtered = data[variables].dropna()\n",
    "\n",
    "# Create a pairplot to visualize the relationships between variables\n",
    "sns.pairplot(data_filtered, hue='mainroad')\n",
    "plt.title('Multivariate Analysis')\n",
    "plt.show()\n",
    "# Calculate descriptive statistics\n",
    "statistics = area.describe()\n",
    "print(statistics)\n"
   ]
  },
  {
   "cell_type": "markdown",
   "id": "c9ca7660",
   "metadata": {},
   "source": [
    "# 4.Perform descriptive statistics on the dataset."
   ]
  },
  {
   "cell_type": "code",
   "execution_count": 7,
   "id": "76bf6101",
   "metadata": {},
   "outputs": [
    {
     "name": "stdout",
     "output_type": "stream",
     "text": [
      "count      545.000000\n",
      "mean      5150.541284\n",
      "std       2170.141023\n",
      "min       1650.000000\n",
      "25%       3600.000000\n",
      "50%       4600.000000\n",
      "75%       6360.000000\n",
      "max      16200.000000\n",
      "Name: area, dtype: float64\n"
     ]
    }
   ],
   "source": [
    "\n",
    "# Calculate descriptive statistics\n",
    "statistics = area.describe()\n",
    "print(statistics)\n",
    "\n"
   ]
  },
  {
   "cell_type": "markdown",
   "id": "a4b563bf",
   "metadata": {},
   "source": [
    "# 5.Handle the Missing values"
   ]
  },
  {
   "cell_type": "code",
   "execution_count": 8,
   "id": "7fdadd4f",
   "metadata": {},
   "outputs": [
    {
     "data": {
      "text/html": [
       "<div>\n",
       "<style scoped>\n",
       "    .dataframe tbody tr th:only-of-type {\n",
       "        vertical-align: middle;\n",
       "    }\n",
       "\n",
       "    .dataframe tbody tr th {\n",
       "        vertical-align: top;\n",
       "    }\n",
       "\n",
       "    .dataframe thead th {\n",
       "        text-align: right;\n",
       "    }\n",
       "</style>\n",
       "<table border=\"1\" class=\"dataframe\">\n",
       "  <thead>\n",
       "    <tr style=\"text-align: right;\">\n",
       "      <th></th>\n",
       "      <th>price</th>\n",
       "      <th>area</th>\n",
       "      <th>bedrooms</th>\n",
       "      <th>bathrooms</th>\n",
       "      <th>stories</th>\n",
       "      <th>mainroad</th>\n",
       "      <th>guestroom</th>\n",
       "      <th>basement</th>\n",
       "      <th>hotwaterheating</th>\n",
       "      <th>airconditioning</th>\n",
       "      <th>parking</th>\n",
       "      <th>furnishingstatus</th>\n",
       "    </tr>\n",
       "  </thead>\n",
       "  <tbody>\n",
       "    <tr>\n",
       "      <th>0</th>\n",
       "      <td>13300000</td>\n",
       "      <td>7420</td>\n",
       "      <td>4</td>\n",
       "      <td>2</td>\n",
       "      <td>3</td>\n",
       "      <td>yes</td>\n",
       "      <td>no</td>\n",
       "      <td>no</td>\n",
       "      <td>no</td>\n",
       "      <td>yes</td>\n",
       "      <td>2</td>\n",
       "      <td>furnished</td>\n",
       "    </tr>\n",
       "    <tr>\n",
       "      <th>1</th>\n",
       "      <td>12250000</td>\n",
       "      <td>8960</td>\n",
       "      <td>4</td>\n",
       "      <td>4</td>\n",
       "      <td>4</td>\n",
       "      <td>yes</td>\n",
       "      <td>no</td>\n",
       "      <td>no</td>\n",
       "      <td>no</td>\n",
       "      <td>yes</td>\n",
       "      <td>3</td>\n",
       "      <td>furnished</td>\n",
       "    </tr>\n",
       "    <tr>\n",
       "      <th>2</th>\n",
       "      <td>12250000</td>\n",
       "      <td>9960</td>\n",
       "      <td>3</td>\n",
       "      <td>2</td>\n",
       "      <td>2</td>\n",
       "      <td>yes</td>\n",
       "      <td>no</td>\n",
       "      <td>yes</td>\n",
       "      <td>no</td>\n",
       "      <td>no</td>\n",
       "      <td>2</td>\n",
       "      <td>semi-furnished</td>\n",
       "    </tr>\n",
       "    <tr>\n",
       "      <th>3</th>\n",
       "      <td>12215000</td>\n",
       "      <td>7500</td>\n",
       "      <td>4</td>\n",
       "      <td>2</td>\n",
       "      <td>2</td>\n",
       "      <td>yes</td>\n",
       "      <td>no</td>\n",
       "      <td>yes</td>\n",
       "      <td>no</td>\n",
       "      <td>yes</td>\n",
       "      <td>3</td>\n",
       "      <td>furnished</td>\n",
       "    </tr>\n",
       "    <tr>\n",
       "      <th>4</th>\n",
       "      <td>11410000</td>\n",
       "      <td>7420</td>\n",
       "      <td>4</td>\n",
       "      <td>1</td>\n",
       "      <td>2</td>\n",
       "      <td>yes</td>\n",
       "      <td>yes</td>\n",
       "      <td>yes</td>\n",
       "      <td>no</td>\n",
       "      <td>yes</td>\n",
       "      <td>2</td>\n",
       "      <td>furnished</td>\n",
       "    </tr>\n",
       "    <tr>\n",
       "      <th>...</th>\n",
       "      <td>...</td>\n",
       "      <td>...</td>\n",
       "      <td>...</td>\n",
       "      <td>...</td>\n",
       "      <td>...</td>\n",
       "      <td>...</td>\n",
       "      <td>...</td>\n",
       "      <td>...</td>\n",
       "      <td>...</td>\n",
       "      <td>...</td>\n",
       "      <td>...</td>\n",
       "      <td>...</td>\n",
       "    </tr>\n",
       "    <tr>\n",
       "      <th>540</th>\n",
       "      <td>1820000</td>\n",
       "      <td>3000</td>\n",
       "      <td>2</td>\n",
       "      <td>1</td>\n",
       "      <td>1</td>\n",
       "      <td>yes</td>\n",
       "      <td>no</td>\n",
       "      <td>yes</td>\n",
       "      <td>no</td>\n",
       "      <td>no</td>\n",
       "      <td>2</td>\n",
       "      <td>unfurnished</td>\n",
       "    </tr>\n",
       "    <tr>\n",
       "      <th>541</th>\n",
       "      <td>1767150</td>\n",
       "      <td>2400</td>\n",
       "      <td>3</td>\n",
       "      <td>1</td>\n",
       "      <td>1</td>\n",
       "      <td>no</td>\n",
       "      <td>no</td>\n",
       "      <td>no</td>\n",
       "      <td>no</td>\n",
       "      <td>no</td>\n",
       "      <td>0</td>\n",
       "      <td>semi-furnished</td>\n",
       "    </tr>\n",
       "    <tr>\n",
       "      <th>542</th>\n",
       "      <td>1750000</td>\n",
       "      <td>3620</td>\n",
       "      <td>2</td>\n",
       "      <td>1</td>\n",
       "      <td>1</td>\n",
       "      <td>yes</td>\n",
       "      <td>no</td>\n",
       "      <td>no</td>\n",
       "      <td>no</td>\n",
       "      <td>no</td>\n",
       "      <td>0</td>\n",
       "      <td>unfurnished</td>\n",
       "    </tr>\n",
       "    <tr>\n",
       "      <th>543</th>\n",
       "      <td>1750000</td>\n",
       "      <td>2910</td>\n",
       "      <td>3</td>\n",
       "      <td>1</td>\n",
       "      <td>1</td>\n",
       "      <td>no</td>\n",
       "      <td>no</td>\n",
       "      <td>no</td>\n",
       "      <td>no</td>\n",
       "      <td>no</td>\n",
       "      <td>0</td>\n",
       "      <td>furnished</td>\n",
       "    </tr>\n",
       "    <tr>\n",
       "      <th>544</th>\n",
       "      <td>1750000</td>\n",
       "      <td>3850</td>\n",
       "      <td>3</td>\n",
       "      <td>1</td>\n",
       "      <td>2</td>\n",
       "      <td>yes</td>\n",
       "      <td>no</td>\n",
       "      <td>no</td>\n",
       "      <td>no</td>\n",
       "      <td>no</td>\n",
       "      <td>0</td>\n",
       "      <td>unfurnished</td>\n",
       "    </tr>\n",
       "  </tbody>\n",
       "</table>\n",
       "<p>545 rows × 12 columns</p>\n",
       "</div>"
      ],
      "text/plain": [
       "        price  area  bedrooms  bathrooms  stories mainroad guestroom basement  \\\n",
       "0    13300000  7420         4          2        3      yes        no       no   \n",
       "1    12250000  8960         4          4        4      yes        no       no   \n",
       "2    12250000  9960         3          2        2      yes        no      yes   \n",
       "3    12215000  7500         4          2        2      yes        no      yes   \n",
       "4    11410000  7420         4          1        2      yes       yes      yes   \n",
       "..        ...   ...       ...        ...      ...      ...       ...      ...   \n",
       "540   1820000  3000         2          1        1      yes        no      yes   \n",
       "541   1767150  2400         3          1        1       no        no       no   \n",
       "542   1750000  3620         2          1        1      yes        no       no   \n",
       "543   1750000  2910         3          1        1       no        no       no   \n",
       "544   1750000  3850         3          1        2      yes        no       no   \n",
       "\n",
       "    hotwaterheating airconditioning  parking furnishingstatus  \n",
       "0                no             yes        2        furnished  \n",
       "1                no             yes        3        furnished  \n",
       "2                no              no        2   semi-furnished  \n",
       "3                no             yes        3        furnished  \n",
       "4                no             yes        2        furnished  \n",
       "..              ...             ...      ...              ...  \n",
       "540              no              no        2      unfurnished  \n",
       "541              no              no        0   semi-furnished  \n",
       "542              no              no        0      unfurnished  \n",
       "543              no              no        0        furnished  \n",
       "544              no              no        0      unfurnished  \n",
       "\n",
       "[545 rows x 12 columns]"
      ]
     },
     "execution_count": 8,
     "metadata": {},
     "output_type": "execute_result"
    }
   ],
   "source": [
    "# Impute missing values in a numerical column with mean\n",
    "data['price'].fillna(data['price'].mean(), inplace=True)\n",
    "\n",
    "\n",
    "# Impute missing values in a numerical column with median\n",
    "data['area'].fillna(data['area'].median(), inplace=True)\n",
    "\n",
    "\n",
    "# Impute missing values in a categorical column with mode\n",
    "data['parking'].fillna(data['parking'].mode()[0], inplace=True)\n",
    "data['guestroom'].fillna(data['guestroom'].mode()[0], inplace=True)\n",
    "\n",
    "data\n",
    "\n"
   ]
  },
  {
   "cell_type": "markdown",
   "id": "39c42a1f",
   "metadata": {},
   "source": [
    "# 6.Find the outliers and replace the outliers\n",
    "\n"
   ]
  },
  {
   "cell_type": "code",
   "execution_count": 9,
   "id": "7068f6b3",
   "metadata": {},
   "outputs": [
    {
     "name": "stdout",
     "output_type": "stream",
     "text": [
      "     price  area  bedrooms  bathrooms  stories mainroad guestroom basement  \\\n",
      "0  4340000  7420         4          2        3      yes        no       no   \n",
      "1  4340000  8960         4          4        4      yes        no       no   \n",
      "2  4340000  9960         3          2        2      yes        no      yes   \n",
      "3  4340000  7500         4          2        2      yes        no      yes   \n",
      "4  4340000  7420         4          1        2      yes       yes      yes   \n",
      "\n",
      "  hotwaterheating airconditioning  parking furnishingstatus  \n",
      "0              no             yes        2        furnished  \n",
      "1              no             yes        3        furnished  \n",
      "2              no              no        2   semi-furnished  \n",
      "3              no             yes        3        furnished  \n",
      "4              no             yes        2        furnished  \n"
     ]
    }
   ],
   "source": [
    "# Select the column with potential outliers\n",
    "column_with_outliers = 'price'\n",
    "\n",
    "# Calculate the Z-score for each data point\n",
    "z_scores = np.abs(stats.zscore(data[column_with_outliers]))\n",
    "\n",
    "# Set a threshold for outlier detection \n",
    "threshold = 3\n",
    "\n",
    "# Find the indices of outliers\n",
    "outlier_indices = np.where(z_scores > threshold)[0]\n",
    "\n",
    "# Replace outliers with a specified value (e.g., median of the column)\n",
    "replacement_value = data[column_with_outliers].median()\n",
    "data.loc[outlier_indices, column_with_outliers] = replacement_value\n",
    "\n",
    "# Display \n",
    "print(data.head())"
   ]
  },
  {
   "cell_type": "markdown",
   "id": "436b82aa",
   "metadata": {},
   "source": [
    "# 7.Check for Categorical columns and perform encoding"
   ]
  },
  {
   "cell_type": "code",
   "execution_count": 11,
   "id": "abb74118",
   "metadata": {},
   "outputs": [
    {
     "name": "stdout",
     "output_type": "stream",
     "text": [
      "Categorical columns:\n",
      "Index(['mainroad', 'guestroom', 'basement', 'hotwaterheating',\n",
      "       'airconditioning', 'furnishingstatus'],\n",
      "      dtype='object')\n",
      "     price  area  bedrooms  bathrooms  stories  parking  mainroad_yes  \\\n",
      "0  4340000  7420         4          2        3        2             1   \n",
      "1  4340000  8960         4          4        4        3             1   \n",
      "2  4340000  9960         3          2        2        2             1   \n",
      "3  4340000  7500         4          2        2        3             1   \n",
      "4  4340000  7420         4          1        2        2             1   \n",
      "\n",
      "   guestroom_yes  basement_yes  hotwaterheating_yes  airconditioning_yes  \\\n",
      "0              0             0                    0                    1   \n",
      "1              0             0                    0                    1   \n",
      "2              0             1                    0                    0   \n",
      "3              0             1                    0                    1   \n",
      "4              1             1                    0                    1   \n",
      "\n",
      "   furnishingstatus_semi-furnished  furnishingstatus_unfurnished  \n",
      "0                                0                             0  \n",
      "1                                0                             0  \n",
      "2                                1                             0  \n",
      "3                                0                             0  \n",
      "4                                0                             0  \n"
     ]
    }
   ],
   "source": [
    "# Check for categorical columns\n",
    "categorical_cols = data.select_dtypes(include=['object']).columns\n",
    "print(\"Categorical columns:\")\n",
    "print(categorical_cols)\n",
    "\n",
    "# Perform one-hot encoding on categorical columns\n",
    "encoded_df = pd.get_dummies(data, columns=categorical_cols, drop_first=True)\n",
    "\n",
    "# Display \n",
    "print(encoded_df.head())"
   ]
  },
  {
   "cell_type": "markdown",
   "id": "7f47a0c6",
   "metadata": {},
   "source": [
    "# 8.Split the data into dependent and independent variables."
   ]
  },
  {
   "cell_type": "code",
   "execution_count": 56,
   "id": "c60c36f9",
   "metadata": {},
   "outputs": [
    {
     "name": "stdout",
     "output_type": "stream",
     "text": [
      "  mainroad  bedrooms   stories guestroom basement\n",
      "0      yes  1.403419  1.378217        no       no\n",
      "1      yes  1.403419  2.532024        no       no\n",
      "2      yes  0.047278  0.224410        no      yes\n",
      "3      yes  1.403419  0.224410        no      yes\n",
      "4      yes  1.403419  0.224410       yes      yes\n",
      "0   -0.200866\n",
      "1   -0.200866\n",
      "2   -0.200866\n",
      "3   -0.200866\n",
      "4   -0.200866\n",
      "Name: price, dtype: float64\n"
     ]
    }
   ],
   "source": [
    "# Select the independent variables (features)\n",
    "indep = data[['mainroad', 'bedrooms', 'stories', 'guestroom','basement']]\n",
    "\n",
    "# Select the dependent variable (target)\n",
    "depen = data['price']\n",
    "\n",
    "# Display the independent variables\n",
    "print(indep.head())\n",
    "\n",
    "# Display the dependent variable\n",
    "print(depen.head())"
   ]
  },
  {
   "cell_type": "markdown",
   "id": "ab85883c",
   "metadata": {},
   "source": [
    "# 9.Scale the independent variables"
   ]
  },
  {
   "cell_type": "code",
   "execution_count": 58,
   "id": "853600ad",
   "metadata": {},
   "outputs": [
    {
     "name": "stdout",
     "output_type": "stream",
     "text": [
      "   bedrooms   stories\n",
      "0  1.403419  1.378217\n",
      "1  1.403419  2.532024\n",
      "2  0.047278  0.224410\n",
      "3  1.403419  0.224410\n",
      "4  1.403419  0.224410\n"
     ]
    }
   ],
   "source": [
    "from sklearn.preprocessing import StandardScaler\n",
    "# Select the independent variables to scale\n",
    "independent_vars = ['bedrooms', 'stories']\n",
    "\n",
    "# Create a scaler object\n",
    "scaler = StandardScaler()\n",
    "\n",
    "# Fit the scaler to the data and transform the independent variables\n",
    "data[independent_vars] = scaler.fit_transform(data[independent_vars])\n",
    "\n",
    "# Display the scaled independent variables\n",
    "print(data[independent_vars].head())"
   ]
  },
  {
   "cell_type": "markdown",
   "id": "f45c8237",
   "metadata": {},
   "source": [
    "# 10.Split the data into training and testing"
   ]
  },
  {
   "cell_type": "code",
   "execution_count": 70,
   "id": "ffd29cd6",
   "metadata": {},
   "outputs": [
    {
     "name": "stdout",
     "output_type": "stream",
     "text": [
      "Training set shape: (436, 2) (436,)\n",
      "Testing set shape: (109, 2) (109,)\n"
     ]
    }
   ],
   "source": [
    "from sklearn.model_selection import train_test_split\n",
    "features = ['area', 'basement']\n",
    "target = 'price'\n",
    "\n",
    "# Split the data into training and testing sets\n",
    "X_train, X_test, y_train, y_test = train_test_split(data[features], data[target], test_size=0.2, random_state=42)\n",
    "\n",
    "# Print the shapes of the training and testing sets\n",
    "print('Training set shape:', X_train.shape, y_train.shape)\n",
    "print('Testing set shape:', X_test.shape, y_test.shape)"
   ]
  },
  {
   "cell_type": "markdown",
   "id": "2cf7ab42",
   "metadata": {},
   "source": [
    "# 11. model creation linear regression"
   ]
  },
  {
   "cell_type": "code",
   "execution_count": 78,
   "id": "333b5b70",
   "metadata": {},
   "outputs": [],
   "source": [
    "from sklearn.linear_model import LinearRegression"
   ]
  },
  {
   "cell_type": "markdown",
   "id": "115db41b",
   "metadata": {},
   "source": [
    "# Onehot coding"
   ]
  },
  {
   "cell_type": "code",
   "execution_count": 94,
   "id": "2e3417f0",
   "metadata": {},
   "outputs": [],
   "source": [
    "import pandas as pd\n",
    "\n",
    "# Assuming your housing dataset is stored in a DataFrame called housing_data\n",
    "# Select the categorical variables to be one-hot encoded\n",
    "categorical_vars = ['mainroad', 'basement','guestroom','hotwaterheating','airconditioning','furnishingstatus']\n",
    "\n",
    "# Perform one-hot encoding\n",
    "housing_data_encoded = pd.get_dummies(data, columns=categorical_vars)\n"
   ]
  },
  {
   "cell_type": "code",
   "execution_count": 101,
   "id": "32302a8d",
   "metadata": {
    "scrolled": true
   },
   "outputs": [],
   "source": [
    "\n",
    "\n",
    "\n",
    "# Separate the independent variables (features) and the dependent variable (target)\n",
    "X = data.drop('price', axis=1)  # Features\n",
    "y = data['price']  # Target variable\n",
    "\n",
    "# Perform one-hot encoding on categorical variables\n",
    "column_transformer = ColumnTransformer(\n",
    "    [('encoder', OneHotEncoder(), ['mainroad', 'basement','guestroom','hotwaterheating','airconditioning','furnishingstatus'])],\n",
    "    remainder='passthrough'\n",
    ")\n",
    "X_encoded = column_transformer.fit_transform(X)\n",
    "\n"
   ]
  },
  {
   "cell_type": "markdown",
   "id": "a063b615",
   "metadata": {},
   "source": [
    "# Linear model"
   ]
  },
  {
   "cell_type": "code",
   "execution_count": 102,
   "id": "9979e212",
   "metadata": {},
   "outputs": [
    {
     "data": {
      "text/html": [
       "<style>#sk-container-id-5 {color: black;background-color: white;}#sk-container-id-5 pre{padding: 0;}#sk-container-id-5 div.sk-toggleable {background-color: white;}#sk-container-id-5 label.sk-toggleable__label {cursor: pointer;display: block;width: 100%;margin-bottom: 0;padding: 0.3em;box-sizing: border-box;text-align: center;}#sk-container-id-5 label.sk-toggleable__label-arrow:before {content: \"▸\";float: left;margin-right: 0.25em;color: #696969;}#sk-container-id-5 label.sk-toggleable__label-arrow:hover:before {color: black;}#sk-container-id-5 div.sk-estimator:hover label.sk-toggleable__label-arrow:before {color: black;}#sk-container-id-5 div.sk-toggleable__content {max-height: 0;max-width: 0;overflow: hidden;text-align: left;background-color: #f0f8ff;}#sk-container-id-5 div.sk-toggleable__content pre {margin: 0.2em;color: black;border-radius: 0.25em;background-color: #f0f8ff;}#sk-container-id-5 input.sk-toggleable__control:checked~div.sk-toggleable__content {max-height: 200px;max-width: 100%;overflow: auto;}#sk-container-id-5 input.sk-toggleable__control:checked~label.sk-toggleable__label-arrow:before {content: \"▾\";}#sk-container-id-5 div.sk-estimator input.sk-toggleable__control:checked~label.sk-toggleable__label {background-color: #d4ebff;}#sk-container-id-5 div.sk-label input.sk-toggleable__control:checked~label.sk-toggleable__label {background-color: #d4ebff;}#sk-container-id-5 input.sk-hidden--visually {border: 0;clip: rect(1px 1px 1px 1px);clip: rect(1px, 1px, 1px, 1px);height: 1px;margin: -1px;overflow: hidden;padding: 0;position: absolute;width: 1px;}#sk-container-id-5 div.sk-estimator {font-family: monospace;background-color: #f0f8ff;border: 1px dotted black;border-radius: 0.25em;box-sizing: border-box;margin-bottom: 0.5em;}#sk-container-id-5 div.sk-estimator:hover {background-color: #d4ebff;}#sk-container-id-5 div.sk-parallel-item::after {content: \"\";width: 100%;border-bottom: 1px solid gray;flex-grow: 1;}#sk-container-id-5 div.sk-label:hover label.sk-toggleable__label {background-color: #d4ebff;}#sk-container-id-5 div.sk-serial::before {content: \"\";position: absolute;border-left: 1px solid gray;box-sizing: border-box;top: 0;bottom: 0;left: 50%;z-index: 0;}#sk-container-id-5 div.sk-serial {display: flex;flex-direction: column;align-items: center;background-color: white;padding-right: 0.2em;padding-left: 0.2em;position: relative;}#sk-container-id-5 div.sk-item {position: relative;z-index: 1;}#sk-container-id-5 div.sk-parallel {display: flex;align-items: stretch;justify-content: center;background-color: white;position: relative;}#sk-container-id-5 div.sk-item::before, #sk-container-id-5 div.sk-parallel-item::before {content: \"\";position: absolute;border-left: 1px solid gray;box-sizing: border-box;top: 0;bottom: 0;left: 50%;z-index: -1;}#sk-container-id-5 div.sk-parallel-item {display: flex;flex-direction: column;z-index: 1;position: relative;background-color: white;}#sk-container-id-5 div.sk-parallel-item:first-child::after {align-self: flex-end;width: 50%;}#sk-container-id-5 div.sk-parallel-item:last-child::after {align-self: flex-start;width: 50%;}#sk-container-id-5 div.sk-parallel-item:only-child::after {width: 0;}#sk-container-id-5 div.sk-dashed-wrapped {border: 1px dashed gray;margin: 0 0.4em 0.5em 0.4em;box-sizing: border-box;padding-bottom: 0.4em;background-color: white;}#sk-container-id-5 div.sk-label label {font-family: monospace;font-weight: bold;display: inline-block;line-height: 1.2em;}#sk-container-id-5 div.sk-label-container {text-align: center;}#sk-container-id-5 div.sk-container {/* jupyter's `normalize.less` sets `[hidden] { display: none; }` but bootstrap.min.css set `[hidden] { display: none !important; }` so we also need the `!important` here to be able to override the default hidden behavior on the sphinx rendered scikit-learn.org. See: https://github.com/scikit-learn/scikit-learn/issues/21755 */display: inline-block !important;position: relative;}#sk-container-id-5 div.sk-text-repr-fallback {display: none;}</style><div id=\"sk-container-id-5\" class=\"sk-top-container\"><div class=\"sk-text-repr-fallback\"><pre>LinearRegression()</pre><b>In a Jupyter environment, please rerun this cell to show the HTML representation or trust the notebook. <br />On GitHub, the HTML representation is unable to render, please try loading this page with nbviewer.org.</b></div><div class=\"sk-container\" hidden><div class=\"sk-item\"><div class=\"sk-estimator sk-toggleable\"><input class=\"sk-toggleable__control sk-hidden--visually\" id=\"sk-estimator-id-5\" type=\"checkbox\" checked><label for=\"sk-estimator-id-5\" class=\"sk-toggleable__label sk-toggleable__label-arrow\">LinearRegression</label><div class=\"sk-toggleable__content\"><pre>LinearRegression()</pre></div></div></div></div></div>"
      ],
      "text/plain": [
       "LinearRegression()"
      ]
     },
     "execution_count": 102,
     "metadata": {},
     "output_type": "execute_result"
    }
   ],
   "source": [
    "X_train, X_test, y_train, y_test = train_test_split(X_encoded, y, test_size=0.2, random_state=42)\n",
    "linear_reg = LinearRegression()\n",
    "linear_reg.fit(X_train, y_train)\n"
   ]
  },
  {
   "cell_type": "code",
   "execution_count": 104,
   "id": "d9caa65b",
   "metadata": {},
   "outputs": [
    {
     "data": {
      "text/plain": [
       "array([ 0.1088584 ,  0.99947058, -0.76920076,  0.09141172, -0.71200262,\n",
       "       -0.5096866 ,  0.48303577,  0.63515207, -1.11349048, -1.20664568,\n",
       "        2.16677087, -0.97541589, -0.91001633, -0.66457344, -0.41727606,\n",
       "        0.05997717, -0.81386506,  0.10841283, -0.08196459, -0.48534204,\n",
       "        0.40500562,  0.55639786, -1.01669126, -0.16729944,  0.33177826,\n",
       "        1.20067192, -0.64618952,  0.28470418,  1.65150257, -0.66249938,\n",
       "        0.6199868 , -0.71724045,  1.13861583, -0.08324924, -0.47834804,\n",
       "        0.53001994,  0.20912566, -0.06088935, -0.88253014, -0.13535874,\n",
       "       -0.01026476, -0.61088821,  0.98788451, -0.3634251 , -0.37672263,\n",
       "       -0.22126703,  1.17129832, -0.24399713, -0.37931258, -0.7447044 ,\n",
       "        1.32013054, -1.04764444, -0.15942161, -0.05326246, -0.4028242 ,\n",
       "       -1.17623225,  1.21882528, -0.8845539 , -0.04490111, -0.99482256,\n",
       "       -0.09427241, -0.80159546,  0.17605256, -0.17836858, -0.32979166,\n",
       "        0.06174395,  1.03383571, -0.55775716,  0.7373232 ,  0.5260862 ,\n",
       "       -0.45814375,  0.13060065, -0.06818131,  1.38015314, -0.68485466,\n",
       "        0.5038234 , -0.38947684, -0.24840595,  0.05503574, -0.61894705,\n",
       "        1.16751699, -0.3243052 ,  0.52206602,  0.22453429, -0.98593201,\n",
       "        1.01252395, -1.07740403, -0.47858432,  1.32103242,  1.76685722,\n",
       "       -0.71315156,  0.80338819, -0.55845647, -0.45102388,  1.32543935,\n",
       "        0.18348048,  0.57813636,  0.95146956, -0.12177437,  0.39944324,\n",
       "       -0.44595893,  0.81115676, -0.36035907,  0.54355369,  0.2559061 ,\n",
       "       -0.21796852,  1.29658154,  0.94433436,  0.39740335])"
      ]
     },
     "execution_count": 104,
     "metadata": {},
     "output_type": "execute_result"
    }
   ],
   "source": [
    "pred=linear_reg.predict(X_test)\n",
    "pred"
   ]
  },
  {
   "cell_type": "code",
   "execution_count": 106,
   "id": "91cd81f8",
   "metadata": {},
   "outputs": [
    {
     "data": {
      "text/plain": [
       "array([ 1.24087695,  1.02176558, -0.02056834, -0.61423925, -0.68903896,\n",
       "       -0.07579356, -0.67455638, -1.05994279, -1.33453265, -0.42020112,\n",
       "       -0.22928349, -0.43000164, -0.0826155 , -0.28434282, -0.25394463,\n",
       "        0.768563  , -1.25663325,  0.18895955, -0.71989163,  1.33803403,\n",
       "        0.83999839, -0.60679478,  0.37115738,  0.97049316,  0.90835578,\n",
       "       -0.70352155, -1.33088128, -0.71274939,  0.28003387, -0.84964181,\n",
       "       -0.53148533, -1.16065823, -0.33862988,  0.46449033, -0.60766519,\n",
       "       -0.30903247, -1.28815765,  0.79360303,  0.11643585,  0.98072005,\n",
       "        1.36900171,  0.2091376 ,  0.08248563, -0.62417389, -0.37328783,\n",
       "       -0.786402  ,  1.47015616,  1.39426457, -0.64198217,  1.17602879,\n",
       "       -0.46099083, -0.52050822,  0.89263245,  0.38823812,  0.04691943,\n",
       "       -0.07998436, -0.40284793, -0.19981015,  1.00870209,  0.47369069,\n",
       "        0.74771029, -0.80070976, -0.17595514,  1.94915717,  0.18066066,\n",
       "        1.20786725,  1.66598046, -0.69358473,  1.29927754,  0.34753765,\n",
       "       -0.12435041, -0.53293359, -0.37032942,  0.88802679,  0.31777884,\n",
       "        0.1217971 , -0.2821531 ,  0.98222612, -0.78726443, -0.94476045,\n",
       "       -0.82671213,  1.43567428,  0.40134121,  0.92051783, -0.17371245,\n",
       "       -0.11568398,  1.14251191,  0.12705505, -0.14977406, -0.96006435,\n",
       "        1.38477804,  0.14641482,  0.28429328,  0.53577961,  0.70493162,\n",
       "       -1.07244923,  0.24133493, -0.76121269, -0.03156885,  0.96250884,\n",
       "        0.32013059,  0.70881836,  1.62275773,  2.10553149,  0.52251193,\n",
       "        0.84346806, -0.19597287,  1.8006378 ,  0.07132181, -0.59342316,\n",
       "        0.29272499, -0.47330062,  0.21459552, -0.52734373, -0.19696828,\n",
       "        1.21140116, -0.70258085, -0.66640511,  0.63124639,  0.77323715,\n",
       "       -0.69769779, -0.7241576 ,  0.12444795,  0.07047113,  0.58131219,\n",
       "       -0.24427775,  0.9335103 , -0.61728836,  0.19182015, -0.16140866,\n",
       "        0.23269255,  0.29292599, -0.05742164, -0.46122214, -0.89702552,\n",
       "       -0.96585738, -0.20767369,  0.68302562,  1.11948535, -0.02703893,\n",
       "        0.19095775,  1.21560527,  0.73183008,  0.04363188, -0.91966797,\n",
       "       -0.09069961, -0.18288558, -1.03974931, -0.52391835,  1.18930489,\n",
       "        0.36057897,  0.2856974 , -0.34321169, -0.67628856,  0.49915836,\n",
       "       -0.6635086 , -0.10461559,  0.39170966, -0.16601656, -0.04619543,\n",
       "       -0.95988648, -0.37584811, -0.48417989, -0.18536882,  1.22856709,\n",
       "        0.62167128, -0.58718992,  0.47641634,  1.45243514,  0.76575912,\n",
       "        0.10640826, -0.15600923, -0.35974086, -0.92533686,  0.37170386,\n",
       "       -0.65008857, -0.42984829,  0.88457082,  0.03676899,  0.22870665,\n",
       "       -0.47330062,  0.22941323, -0.33204942,  0.25180848,  0.03537803,\n",
       "       -0.3208767 ,  0.52113696, -1.26889008,  0.32085983,  0.63192943,\n",
       "       -0.39239028, -0.26419362,  0.55788569, -1.06543455, -1.1556024 ,\n",
       "       -0.22678828,  0.41237231, -0.07330358, -0.45467465, -0.78226582,\n",
       "       -0.57681751,  0.41277257, -0.97349359, -0.96585738, -0.30172193,\n",
       "       -0.28300718,  1.50186317,  0.40961681,  0.59220654, -0.91895724,\n",
       "        0.02154635,  0.99529026, -0.82682454, -0.06937573, -1.42284571,\n",
       "       -1.01944296, -0.38783187, -0.83465166,  0.26897371, -0.27838721,\n",
       "       -0.8205913 , -1.0082035 , -1.01474331,  0.20825161, -0.02114874,\n",
       "       -0.53685728,  0.47870684, -0.17110925, -0.45538145,  0.19283823,\n",
       "       -0.63515769, -0.02042669, -1.02378773, -0.57474838,  0.885047  ,\n",
       "        0.05041216,  0.58030027,  0.19707212, -0.39313705, -0.25245849,\n",
       "        0.85264591,  0.23918519, -0.76409229,  0.47248848, -0.95204656,\n",
       "       -0.77499379, -0.74696932,  0.80206718, -0.99550712,  0.13337786,\n",
       "       -0.5454074 , -0.94371594,  0.18832782, -0.85723797, -0.82638434,\n",
       "        0.12236344, -1.0846146 ,  1.30312134,  0.49802526,  1.39631571,\n",
       "       -0.34104739,  1.25291586, -0.09901167,  0.55548625, -0.56830151,\n",
       "        0.46420232,  0.8746748 ,  1.44874164,  1.27559055,  0.17789038,\n",
       "        1.03818226, -1.03765145, -0.79925922, -0.05022377,  0.77142631,\n",
       "        0.65704221, -0.42210223, -0.93981945, -0.83292414,  0.04359112,\n",
       "        0.31157548, -0.89503833,  1.22997544, -0.58979367, -0.59924692,\n",
       "        0.34570694, -0.46341717, -0.36928802, -0.85030325, -0.430246  ,\n",
       "        0.20876908, -0.68155846,  1.08821159, -0.32935146,  0.16083593,\n",
       "        0.55489001,  0.61759309, -0.90792703,  0.16699771, -0.95199135,\n",
       "        0.25820285,  0.81654977, -0.45985404, -0.37887987,  0.40335006,\n",
       "       -0.7116484 ,  1.02035037,  0.63935539, -0.26569028,  0.05663038,\n",
       "        0.26179651, -1.43588004,  0.05631557, -0.81247065, -0.32145708,\n",
       "       -0.10519961,  0.37993512,  0.14624238, -0.12836864,  0.86178192,\n",
       "       -0.36167984, -1.08809694,  0.34219221,  0.83631858,  0.98043473,\n",
       "        0.69574197, -1.34460901,  1.18669319, -0.89914724, -0.79671767,\n",
       "        1.04441086, -0.19974718,  0.52186917,  0.15870505,  0.56233285,\n",
       "       -0.84705176,  0.23984091, -0.73541397, -0.29122696, -0.95781283,\n",
       "       -0.42666492, -0.56034493, -0.41887364, -0.43661963, -0.23640714,\n",
       "        0.04166118,  0.72430984, -1.0167147 , -0.59490215, -0.23868311,\n",
       "       -0.92450516, -0.44719709, -1.02089121, -0.39389544, -0.11278006,\n",
       "       -0.66731508, -0.91035262,  0.09964125,  0.71305887,  0.95106561,\n",
       "        0.49369495,  0.33282629,  0.66282084,  0.1003602 ,  0.28482986,\n",
       "        0.32969617,  1.17427397, -0.31282898,  2.72488308, -1.44315206,\n",
       "       -0.89850451,  1.07896553, -0.32207363,  0.3231151 ,  0.15498251,\n",
       "        1.00341816, -1.0867039 , -0.77876579, -0.48417989, -0.17186481,\n",
       "       -1.10639233, -0.58213835,  0.20735422, -0.07844217, -1.0179947 ,\n",
       "        1.51467954, -0.50954706, -0.1539688 , -0.62142996,  0.52637318,\n",
       "       -0.13471764,  0.57633505, -0.01865595, -0.33952   ,  0.42125895,\n",
       "        0.38023729, -1.36125515,  0.08770709, -0.27727635, -1.41705268,\n",
       "       -1.08027505, -0.67533572,  0.48076371, -0.42552541, -0.70231674,\n",
       "       -0.66903918, -1.37798042,  1.75144721, -0.78873302,  0.13593024,\n",
       "        0.9729042 , -0.07481344, -1.03827032,  1.0485544 , -0.65402462,\n",
       "        0.95982387, -1.0179947 , -0.27632458, -1.21454081, -0.76340772,\n",
       "       -0.15236688, -0.33629288,  0.40130355, -0.65298737, -0.35256358,\n",
       "       -0.67455638, -0.25637619, -0.67526711, -0.90592291,  0.86597766,\n",
       "        0.38274766,  1.04267913,  0.64144824,  0.79669632, -0.96006435,\n",
       "        1.3734824 ])"
      ]
     },
     "execution_count": 106,
     "metadata": {},
     "output_type": "execute_result"
    }
   ],
   "source": [
    "pred1=linear_reg.predict(X_train)\n",
    "pred1"
   ]
  },
  {
   "cell_type": "markdown",
   "id": "5ddf2c9b",
   "metadata": {},
   "source": [
    "# 14.performance metrics"
   ]
  },
  {
   "cell_type": "code",
   "execution_count": 117,
   "id": "7563475e",
   "metadata": {},
   "outputs": [
    {
     "name": "stdout",
     "output_type": "stream",
     "text": [
      "Mean Squared Error: 0.5051337697615725\n",
      "Root Mean Squared Error: 0.7107276340213405\n",
      "Mean Absolute Error: 0.55177295414068\n",
      "R-squared: 0.6273081687625074\n"
     ]
    }
   ],
   "source": [
    "from sklearn.metrics import mean_squared_error, mean_absolute_error, r2_score\n",
    "\n",
    "# Make predictions on the testing data\n",
    "y_pred = linear_reg.predict(X_test)\n",
    "\n",
    "# Calculate mean squared error (MSE)\n",
    "mse = mean_squared_error(y_test, y_pred)\n",
    "\n",
    "# Calculate root mean squared error (RMSE)\n",
    "rmse = mean_squared_error(y_test, y_pred, squared=False)\n",
    "\n",
    "# Calculate mean absolute error (MAE)\n",
    "mae = mean_absolute_error(y_test, y_pred)\n",
    "\n",
    "# Calculate R-squared score\n",
    "r2 = r2_score(y_test, y_pred)\n",
    "\n",
    "# Print the performance metrics\n",
    "print(\"Mean Squared Error:\", mse)\n",
    "print(\"Root Mean Squared Error:\", rmse)\n",
    "print(\"Mean Absolute Error:\", mae)\n",
    "print(\"R-squared:\", r2)\n"
   ]
  },
  {
   "cell_type": "code",
   "execution_count": null,
   "id": "058a311f",
   "metadata": {},
   "outputs": [],
   "source": []
  },
  {
   "cell_type": "code",
   "execution_count": null,
   "id": "1b800c45",
   "metadata": {},
   "outputs": [],
   "source": []
  }
 ],
 "metadata": {
  "kernelspec": {
   "display_name": "Python 3 (ipykernel)",
   "language": "python",
   "name": "python3"
  },
  "language_info": {
   "codemirror_mode": {
    "name": "ipython",
    "version": 3
   },
   "file_extension": ".py",
   "mimetype": "text/x-python",
   "name": "python",
   "nbconvert_exporter": "python",
   "pygments_lexer": "ipython3",
   "version": "3.10.9"
  }
 },
 "nbformat": 4,
 "nbformat_minor": 5
}
